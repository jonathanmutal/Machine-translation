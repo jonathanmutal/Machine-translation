{
 "cells": [
  {
   "cell_type": "markdown",
   "metadata": {},
   "source": [
    "<font size='+4'><b> TP 1 -- neural machine translation</b></font>"
   ]
  },
  {
   "cell_type": "markdown",
   "metadata": {},
   "source": [
    "<font size='+2'>Words that occur insimilar contexts tend to have similar meanings.  This link between similarity in how words are distributed and similarity in  what  they  mean  is  called  <b>the distributional  hypothesis.</b> </font> (Joos (1950), Harris (1954), and Firth(1957))"
   ]
  },
  {
   "cell_type": "markdown",
   "metadata": {},
   "source": [
    "<font size='+2'>In this practice we are going to instante this linguistic hypothesis by learning representations of the meaning of words directly from their distributions in texts and using some pre-trained representations.  <it> A word’s distribution is the set of contexts in which it occurs, the neighboring words or grammatical environments.  The idea is that two words that occur in very similar distributions (that occur together with very similar words) are likely to have the same meaning. </it></font>"
   ]
  },
  {
   "cell_type": "markdown",
   "metadata": {},
   "source": [
    "<font size='+3'> Execute the following cell pressing CTRL+ENTER. Please, do not modify the cell </font>"
   ]
  },
  {
   "cell_type": "code",
   "execution_count": 1,
   "metadata": {},
   "outputs": [],
   "source": [
    "from word2vec import train_model,load_model,get_similar_words, get_vocabulary, cosine_similarity_between_words, graphic_words, get_vector\n",
    "from utils import add_corpus\n",
    "%matplotlib notebook"
   ]
  },
  {
   "cell_type": "markdown",
   "metadata": {},
   "source": [
    "<font size='+3'><b> Exercise 1: warm up </b></font><br><br>\n",
    "<font size='+2'> Explore demo dataset cook_book_1 vectors. Remember,  press <b>ctrl+enter</b> to execute each cell. First we are going to load a word2vec model trained with cook receipts.\n",
    "\n",
    "<ul>1. Load cook_book_1 model</ul>\n",
    "\n",
    "</font>"
   ]
  },
  {
   "cell_type": "code",
   "execution_count": 2,
   "metadata": {},
   "outputs": [],
   "source": [
    "model = load_model('w2v_models/cook_book_1.w2v')"
   ]
  },
  {
   "cell_type": "markdown",
   "metadata": {},
   "source": [
    "<font size='+2'><ul>2. Get vector for the word 'carrot'. The dimension is 300.</ul></font>"
   ]
  },
  {
   "cell_type": "code",
   "execution_count": 4,
   "metadata": {},
   "outputs": [
    {
     "data": {
      "text/plain": [
       "array([ 0.03196879, -0.20942186,  0.2108302 , -0.22033389,  0.14812407,\n",
       "       -0.04046965, -0.02661778,  0.14687632,  0.01237047, -0.1340448 ,\n",
       "       -0.15650286, -0.06203574, -0.09396023,  0.27849078,  0.10612939,\n",
       "        0.04017753, -0.02953582,  0.034427  ,  0.01971436, -0.35139254,\n",
       "        0.10261538, -0.10750353, -0.27153406, -0.14207956,  0.20321865,\n",
       "       -0.12196422,  0.04716698,  0.01456462,  0.27060437,  0.05401583,\n",
       "       -0.08754962,  0.06998581, -0.19417246, -0.11671876,  0.2064277 ,\n",
       "        0.47387004,  0.1077043 , -0.04943267, -0.01714019, -0.13417141,\n",
       "       -0.14839639,  0.17718175,  0.31650352, -0.1543797 ,  0.02658268,\n",
       "       -0.35045052, -0.1110017 ,  0.11212404,  0.19086702,  0.2289316 ,\n",
       "       -0.1134899 , -0.04391641,  0.14153829, -0.2691617 ,  0.31980884,\n",
       "        0.11670907,  0.08807718,  0.22253904,  0.03310819, -0.0036993 ,\n",
       "        0.03168244, -0.3744357 , -0.2434959 , -0.4947746 ,  0.35307336,\n",
       "        0.05990512, -0.39451906, -0.01801799, -0.1502616 , -0.07618256,\n",
       "        0.25352976, -0.19452538, -0.01272481, -0.29377446,  0.16098602,\n",
       "        0.11934728, -0.09058311, -0.11247957, -0.35292527, -0.1311432 ,\n",
       "       -0.00819774,  0.00136235, -0.03383278, -0.29633242,  0.13739657,\n",
       "        0.1749973 ,  0.06179594, -0.29181018,  0.11231349, -0.0296495 ,\n",
       "        0.35562098,  0.19855161, -0.09315711, -0.27965793,  0.45669335,\n",
       "       -0.2234161 ,  0.09057536, -0.0989242 , -0.07412677,  0.1791545 ,\n",
       "       -0.19600132,  0.19907103, -0.12856247, -0.06352069, -0.1394299 ,\n",
       "        0.05589917, -0.03242457, -0.04637907,  0.06745466, -0.09824349,\n",
       "        0.03565789, -0.12708896,  0.03785311,  0.02241161,  0.40415412,\n",
       "        0.10533243,  0.22611625, -0.1066442 , -0.20659748,  0.07596193,\n",
       "       -0.01335849, -0.24452811, -0.05549109,  0.04974809, -0.01805908,\n",
       "       -0.3480117 ,  0.05696994,  0.01766622,  0.03298152,  0.19272725,\n",
       "       -0.1659213 ,  0.24675435,  0.02414305,  0.04660367,  0.12094034,\n",
       "        0.24236858,  0.1200743 ,  0.02525765, -0.16179518, -0.12294096,\n",
       "        0.0446466 , -0.10280991,  0.04716119, -0.3364451 ,  0.22865614,\n",
       "       -0.221513  , -0.33380166,  0.08669228, -0.06479064,  0.22721346,\n",
       "        0.17912856,  0.13162704, -0.3612433 ,  0.07490656, -0.0407675 ,\n",
       "       -0.09932803, -0.01313666,  0.02850876, -0.06010355, -0.04903932,\n",
       "        0.04319118, -0.29267445,  0.06166406, -0.41459125,  0.25369126,\n",
       "        0.06527106, -0.08744778,  0.07083122, -0.15553361, -0.08199345,\n",
       "       -0.04933656, -0.03129401,  0.01619194,  0.16683403,  0.0147517 ,\n",
       "        0.16082099,  0.24185349, -0.22110178, -0.13455531, -0.16275445,\n",
       "        0.00620982,  0.14472471, -0.06702376,  0.01119431,  0.27410886,\n",
       "        0.19446658,  0.1251136 , -0.01316071, -0.07950488,  0.01244785,\n",
       "        0.30978617, -0.4149027 ,  0.03444344, -0.13835168,  0.20241125,\n",
       "       -0.18669769, -0.33069807, -0.00104293,  0.31244338,  0.00352429,\n",
       "        0.11089515, -0.05568802, -0.17204292, -0.10625909,  0.2035717 ,\n",
       "        0.41890293, -0.20303895, -0.14735332, -0.26791167, -0.09816516,\n",
       "        0.34265247, -0.09985081,  0.37080872, -0.1298241 ,  0.3791129 ,\n",
       "        0.38722417, -0.19455765, -0.09510789,  0.21164802,  0.4426912 ,\n",
       "        0.07817551, -0.21340339, -0.01726995, -0.27650735,  0.10666937,\n",
       "        0.0051201 , -0.2696995 ,  0.03025877, -0.01435565,  0.38276035,\n",
       "       -0.25399995,  0.23100612, -0.04910962,  0.13527928, -0.35619622,\n",
       "       -0.06645471,  0.07842856, -0.04185605,  0.33512846, -0.08306403,\n",
       "       -0.2560525 , -0.26404282, -0.04402702,  0.12688732,  0.10821176,\n",
       "        0.23350641, -0.33623436, -0.08923406, -0.09050801,  0.05086211,\n",
       "       -0.04646947, -0.08642797, -0.28567773,  0.13668345,  0.1188234 ,\n",
       "       -0.02561599,  0.16489524,  0.24224292, -0.43439263,  0.15416127,\n",
       "        0.2689771 ,  0.27584633,  0.34520364, -0.35932913, -0.02569883,\n",
       "        0.11308344,  0.20431902,  0.22203332,  0.47384465,  0.30028614,\n",
       "        0.25169036, -0.00806834, -0.35088894, -0.4045447 ,  0.18626636,\n",
       "       -0.38458523,  0.27214208, -0.02219092,  0.06885615, -0.00326283,\n",
       "       -0.13871898, -0.10545619, -0.34585428,  0.06497295,  0.20060521,\n",
       "       -0.02976498, -0.5412926 ,  0.01616816,  0.11581951,  0.41390282,\n",
       "       -0.08650251, -0.22259031,  0.2502906 , -0.22228828,  0.4506219 ,\n",
       "       -0.06094652, -0.25473395,  0.15405676,  0.25070068, -0.13042845],\n",
       "      dtype=float32)"
      ]
     },
     "execution_count": 4,
     "metadata": {},
     "output_type": "execute_result"
    }
   ],
   "source": [
    "get_vector('caramel')"
   ]
  },
  {
   "cell_type": "markdown",
   "metadata": {},
   "source": [
    "<font size='+2'><ul>2. Find 20 \"closest\" words to word 'carrot'.</ul></font>"
   ]
  },
  {
   "cell_type": "code",
   "execution_count": 5,
   "metadata": {},
   "outputs": [
    {
     "data": {
      "text/plain": [
       "[('meringue', 0.9577950239181519),\n",
       " ('kinsley', 0.9547771215438843),\n",
       " ('maple', 0.9547735452651978),\n",
       " ('granola', 0.9547085762023926),\n",
       " ('frapp', 0.9522143602371216),\n",
       " ('rookh', 0.9513990879058838),\n",
       " ('filbert', 0.9512130618095398),\n",
       " ('kisses', 0.9506742358207703),\n",
       " ('dixie', 0.950081467628479),\n",
       " ('macaroon', 0.949749231338501),\n",
       " ('huckleberry', 0.949360191822052),\n",
       " ('parfait', 0.947697639465332),\n",
       " ('rarebit', 0.9475277662277222),\n",
       " ('chantilly', 0.9461260437965393),\n",
       " ('brioche', 0.9456028342247009),\n",
       " ('koumiss', 0.9446392059326172),\n",
       " ('marshmallow', 0.9445560574531555),\n",
       " ('cocoanut', 0.9445528984069824),\n",
       " ('whips', 0.9408553242683411),\n",
       " ('unfermented', 0.9402272701263428)]"
      ]
     },
     "execution_count": 5,
     "metadata": {},
     "output_type": "execute_result"
    }
   ],
   "source": [
    "get_similar_words('caramel', 20)"
   ]
  },
  {
   "cell_type": "markdown",
   "metadata": {},
   "source": [
    "<font size='+2'><ul>3. Find the cosine similarity between 'man' and 'woman'.</ul></font>"
   ]
  },
  {
   "cell_type": "code",
   "execution_count": 6,
   "metadata": {},
   "outputs": [
    {
     "data": {
      "text/plain": [
       "0.8877693833983006"
      ]
     },
     "execution_count": 6,
     "metadata": {},
     "output_type": "execute_result"
    }
   ],
   "source": [
    "cosine_similarity_between_words('home', 'man')"
   ]
  },
  {
   "cell_type": "markdown",
   "metadata": {},
   "source": [
    "<font size='+2'><ul>4. Find 50 \"closest\" words to word 'carrot' and graphic them.</ul></font>"
   ]
  },
  {
   "cell_type": "code",
   "execution_count": 7,
   "metadata": {},
   "outputs": [
    {
     "name": "stdout",
     "output_type": "stream",
     "text": [
      "carrot (2.745474, -4.7332997)\n",
      "mix (4.9679832, 5.1508527)\n",
      "man (-10.248119, -4.5799274)\n",
      "woman (-8.537525, -4.571113)\n",
      "boil (11.956114, 0.27194363)\n",
      "onion (10.461783, -4.101955)\n",
      "milk (-0.4807224, 11.848407)\n",
      "potato (1.4214817, -2.3189054)\n",
      "food (-11.611717, 4.266136)\n",
      "stirred (-1.4475099, -0.26477534)\n",
      "shake (0.7727583, -0.96735996)\n"
     ]
    },
    {
     "data": {
      "image/png": "[encoded data removed]",
      "text/plain": [
       "<Figure size 432x432 with 1 Axes>"
      ]
     },
     "metadata": {
      "needs_background": "light"
     },
     "output_type": "display_data"
    }
   ],
   "source": [
    "graphic_words(words=['carrot', 'mix', 'man', 'woman', 'boil', 'onion', 'milk', 'potato', 'food', 'stirred', 'shake'])"
   ]
  },
  {
   "cell_type": "markdown",
   "metadata": {},
   "source": [
    "<font size='+2'><ul>4. Train with a new corpora with new parameters. Set window parameter to 3.</ul></font>"
   ]
  },
  {
   "cell_type": "markdown",
   "metadata": {},
   "source": [
    "<font size='+1'>\n",
    "    <ul>\n",
    "        <ul>Parameters:<br><br>\n",
    "            <font size='+0.1'><ul><b>Window</b>: The maximum distance between a target word and words around the target word. Shorter context windows tend to lead to representations that are a bit more syntactic, since the information is coming from immediately nearby words. When the vectors are computed from longer context windows, the most similar words to a target words tend to be semantically similar words with the same parts of speech.  When vectors are computed from long context windows, the highest cosine words to a target words tend to be words that are topically related but not similar.</ul></font>\n",
    "        </ul>\n",
    "    </ul>\n",
    "</font>"
   ]
  },
  {
   "cell_type": "code",
   "execution_count": 8,
   "metadata": {},
   "outputs": [
    {
     "name": "stdout",
     "output_type": "stream",
     "text": [
      "loading corpus: shakespeare...\n",
      "\n",
      "corpus already loaded\n",
      "\n",
      "The model with shakespeare corpus is trained\n"
     ]
    }
   ],
   "source": [
    "model = train_model('shakespeare', window=3)"
   ]
  },
  {
   "cell_type": "markdown",
   "metadata": {},
   "source": [
    "<font size='+1'><ul>4.1. Find 10 \"closest\" words to word 'street'.</ul></font>"
   ]
  },
  {
   "cell_type": "code",
   "execution_count": 10,
   "metadata": {},
   "outputs": [
    {
     "data": {
      "text/plain": [
       "[('chief', 0.22870133817195892),\n",
       " ('scorpions', 0.2020435482263565),\n",
       " ('jephthah', 0.19787834584712982),\n",
       " ('reasoning', 0.19425638020038605),\n",
       " ('vows', 0.1870129108428955),\n",
       " ('smote', 0.18666748702526093),\n",
       " ('accident', 0.18070857226848602),\n",
       " ('worshipp', 0.17957445979118347),\n",
       " ('perishing', 0.17908045649528503),\n",
       " ('cupids', 0.1787133663892746)]"
      ]
     },
     "execution_count": 10,
     "metadata": {},
     "output_type": "execute_result"
    }
   ],
   "source": [
    "get_similar_words('street')"
   ]
  },
  {
   "cell_type": "markdown",
   "metadata": {},
   "source": [
    "### How to load a new corpus?"
   ]
  },
  {
   "cell_type": "markdown",
   "metadata": {},
   "source": [
    "1. Go to jupyter home screen\n",
    "\n",
    "<img src=\"jupyter_home.PNG\">\n",
    "\n",
    "2. Click on upload\n",
    "\n",
    "3. Upload your file with your new corpus (it has to be a text file). For example, my file is example.txt\n",
    "\n",
    "<img src=\"upload.PNG\">\n",
    "\n",
    "4. Afterwards follow the following instructions."
   ]
  },
  {
   "cell_type": "markdown",
   "metadata": {},
   "source": [
    "5. Add the corpus to be loaded.\n",
    "\n",
    "        add_corpus(name_of_corpus, path_to_the_file)\n",
    "    \n",
    "So in our case we are going to name our corpus example and the path is example.txt"
   ]
  },
  {
   "cell_type": "code",
   "execution_count": 2,
   "metadata": {},
   "outputs": [
    {
     "name": "stdout",
     "output_type": "stream",
     "text": [
      "corpus added.\n"
     ]
    }
   ],
   "source": [
    "add_corpus('example', 'example.txt')"
   ]
  },
  {
   "cell_type": "markdown",
   "metadata": {},
   "source": [
    "6. Train a new model with name_of_corpus. In our is example."
   ]
  },
  {
   "cell_type": "code",
   "execution_count": 8,
   "metadata": {},
   "outputs": [
    {
     "name": "stdout",
     "output_type": "stream",
     "text": [
      "loading corpus: example...\n",
      "\n",
      "corpus already loaded\n",
      "\n",
      "The model with example corpus is trained\n"
     ]
    }
   ],
   "source": [
    "model = train_model('example', window=3)"
   ]
  },
  {
   "cell_type": "code",
   "execution_count": 9,
   "metadata": {},
   "outputs": [
    {
     "data": {
      "text/plain": [
       "[('tonight', 0.15471786260604858),\n",
       " ('will', 0.06407295167446136),\n",
       " ('you', 0.05676010996103287),\n",
       " ('should', 0.049824636429548264),\n",
       " ('want', 0.042953118681907654),\n",
       " ('dinner', 0.04098226875066757),\n",
       " ('with', 0.04027614742517471),\n",
       " ('do', 0.013700610026717186),\n",
       " ('espinard', 0.004326664377003908),\n",
       " ('for', -0.00011229701340198517)]"
      ]
     },
     "execution_count": 9,
     "metadata": {},
     "output_type": "execute_result"
    }
   ],
   "source": [
    "get_similar_words('bb')"
   ]
  },
  {
   "cell_type": "markdown",
   "metadata": {},
   "source": [
    "<font size='+3'><b> Exercise 2: hands-on </b></font><br><br>"
   ]
  },
  {
   "cell_type": "markdown",
   "metadata": {},
   "source": [
    "1. Find a new corpus (no more than 50,000 sentences)."
   ]
  },
  {
   "cell_type": "markdown",
   "metadata": {},
   "source": [
    "2. train a word2vec model in this corpus with windows of 3"
   ]
  },
  {
   "cell_type": "markdown",
   "metadata": {},
   "source": [
    "3. Choose a word and find 10 closest sentence"
   ]
  },
  {
   "cell_type": "markdown",
   "metadata": {},
   "source": [
    "4. graphic words"
   ]
  },
  {
   "cell_type": "markdown",
   "metadata": {},
   "source": [
    "5. Retrain the model changing window parameter to 10"
   ]
  },
  {
   "cell_type": "markdown",
   "metadata": {},
   "source": [
    "6. Take the same word from instruction 3 and find the closest words. What are the differencies?"
   ]
  },
  {
   "cell_type": "code",
   "execution_count": null,
   "metadata": {},
   "outputs": [],
   "source": []
  }
 ],
 "metadata": {
  "kernelspec": {
   "display_name": "Python 3",
   "language": "python",
   "name": "python3"
  },
  "language_info": {
   "codemirror_mode": {
    "name": "ipython",
    "version": 3
   },
   "file_extension": ".py",
   "mimetype": "text/x-python",
   "name": "python",
   "nbconvert_exporter": "python",
   "pygments_lexer": "ipython3",
   "version": "3.7.2"
  }
 },
 "nbformat": 4,
 "nbformat_minor": 2
}
