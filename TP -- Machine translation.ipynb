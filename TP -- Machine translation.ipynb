{
 "cells": [
  {
   "cell_type": "markdown",
   "metadata": {},
   "source": [
    "<font size='+4'><b> TP 1 -- neural machine translation</b></font>"
   ]
  },
  {
   "cell_type": "markdown",
   "metadata": {},
   "source": [
    "<font size='+2'>Words that occur insimilar contexts tend to have similar meanings.  This link between similarity in how words are distributed and similarity in  what  they  mean  is  called  <b>the distributional  hypothesis.</b> </font> (Joos (1950), Harris (1954), and Firth(1957))"
   ]
  },
  {
   "cell_type": "markdown",
   "metadata": {},
   "source": [
    "<font size='+2'>In this practice we are going to instante this linguistic hypothesis by learning representations of the meaning of words directly from their distributions in texts and using some pre-trained representations.  <it> A word’s distribution is the set of contexts in which it occurs, the neighboring words or grammatical environments.  The idea is that two words that occur in very similar distributions (that occur together with very similar words) are likely to have the same meaning. </it></font>"
   ]
  },
  {
   "cell_type": "markdown",
   "metadata": {},
   "source": [
    "<font size='+3'> Execute the following cell pressing CTRL+ENTER. Please, do not modify the cell </font>"
   ]
  },
  {
   "cell_type": "code",
   "execution_count": null,
   "metadata": {},
   "outputs": [],
   "source": [
    "from word2vec import train_model,load_model,get_similar_words, get_vocabulary, cosine_similarity_between_words, graphic_words, get_vector\n",
    "from utils import add_corpus\n",
    "%matplotlib notebook"
   ]
  },
  {
   "cell_type": "markdown",
   "metadata": {},
   "source": [
    "<font size='+3'><b> Exercise 1: warm up </b></font><br><br>\n",
    "<font size='+2'> Explore demo dataset cook_book_1 vectors. Remember,  press <b>ctrl+enter</b> to execute each cell. First we are going to load a word2vec model trained with cook receipts.\n",
    "\n",
    "<ul>1. Load cook_book_1 model</ul>\n",
    "\n",
    "</font>"
   ]
  },
  {
   "cell_type": "code",
   "execution_count": null,
   "metadata": {},
   "outputs": [],
   "source": [
    "model = load_model('w2v_models/cook_book_1.w2v')"
   ]
  },
  {
   "cell_type": "markdown",
   "metadata": {},
   "source": [
    "<font size='+2'><ul>2. Get vector for the word 'carrot'. The dimension is 300.</ul></font>"
   ]
  },
  {
   "cell_type": "code",
   "execution_count": null,
   "metadata": {},
   "outputs": [],
   "source": [
    "get_vector('caramel')"
   ]
  },
  {
   "cell_type": "markdown",
   "metadata": {},
   "source": [
    "<font size='+2'><ul>2. Find 20 \"closest\" words to word 'carrot'.</ul></font>"
   ]
  },
  {
   "cell_type": "code",
   "execution_count": null,
   "metadata": {},
   "outputs": [],
   "source": [
    "get_similar_words('caramel', 20)"
   ]
  },
  {
   "cell_type": "markdown",
   "metadata": {},
   "source": [
    "<font size='+2'><ul>3. Find the cosine similarity between 'man' and 'woman'.</ul></font>"
   ]
  },
  {
   "cell_type": "code",
   "execution_count": null,
   "metadata": {},
   "outputs": [],
   "source": [
    "cosine_similarity_between_words('home', 'man')"
   ]
  },
  {
   "cell_type": "markdown",
   "metadata": {},
   "source": [
    "<font size='+2'><ul>4. Find 50 \"closest\" words to word 'carrot' and graphic them.</ul></font>"
   ]
  },
  {
   "cell_type": "code",
   "execution_count": null,
   "metadata": {},
   "outputs": [],
   "source": [
    "graphic_words(words=['carrot', 'mix', 'man', 'woman', 'boil', 'onion', 'milk', 'potato', 'food', 'stirred', 'shake'])"
   ]
  },
  {
   "cell_type": "markdown",
   "metadata": {},
   "source": [
    "<font size='+2'><ul>4. Train with a new corpora with new parameters. Set window parameter to 3.</ul></font>"
   ]
  },
  {
   "cell_type": "markdown",
   "metadata": {},
   "source": [
    "<font size='+1'>\n",
    "    <ul>\n",
    "        <ul>Parameters:<br><br>\n",
    "            <font size='+0.1'><ul><b>Window</b>: The maximum distance between a target word and words around the target word. Shorter context windows tend to lead to representations that are a bit more syntactic, since the information is coming from immediately nearby words. When the vectors are computed from longer context windows, the most similar words to a target words tend to be semantically similar words with the same parts of speech.  When vectors are computed from long context windows, the highest cosine words to a target words tend to be words that are topically related but not similar.</ul></font>\n",
    "        </ul>\n",
    "    </ul>\n",
    "</font>"
   ]
  },
  {
   "cell_type": "code",
   "execution_count": null,
   "metadata": {},
   "outputs": [],
   "source": [
    "model = train_model('shakespeare', window=3)"
   ]
  },
  {
   "cell_type": "markdown",
   "metadata": {},
   "source": [
    "<font size='+1'><ul>4.1. Find 10 \"closest\" words to word 'street'.</ul></font>"
   ]
  },
  {
   "cell_type": "code",
   "execution_count": null,
   "metadata": {},
   "outputs": [],
   "source": [
    "get_similar_words('street')"
   ]
  },
  {
   "cell_type": "markdown",
   "metadata": {},
   "source": [
    "<font size='+1'><ul>5. Get first 20 words from vocabulary</ul></font>"
   ]
  },
  {
   "cell_type": "code",
   "execution_count": null,
   "metadata": {},
   "outputs": [],
   "source": [
    "get_vocabulary()"
   ]
  },
  {
   "cell_type": "markdown",
   "metadata": {},
   "source": [
    "### How to load a new corpus?"
   ]
  },
  {
   "cell_type": "markdown",
   "metadata": {},
   "source": [
    "1. Go to jupyter home screen\n",
    "\n",
    "<img src=\"jupyter_home.PNG\">\n",
    "\n",
    "2. Click on upload\n",
    "\n",
    "3. Upload your file with your new corpus (it has to be a text file). For example, my file is example.txt\n",
    "\n",
    "<img src=\"upload.PNG\">\n",
    "\n",
    "4. Afterwards follow the following instructions."
   ]
  },
  {
   "cell_type": "markdown",
   "metadata": {},
   "source": [
    "5. Add the corpus to be loaded.\n",
    "\n",
    "        add_corpus(name_of_corpus, path_to_the_file)\n",
    "    \n",
    "So in our case we are going to name our corpus example and the path is example.txt"
   ]
  },
  {
   "cell_type": "code",
   "execution_count": null,
   "metadata": {},
   "outputs": [],
   "source": [
    "add_corpus('example', 'example.txt')"
   ]
  },
  {
   "cell_type": "markdown",
   "metadata": {},
   "source": [
    "6. Train a new model with name_of_corpus. In our is example."
   ]
  },
  {
   "cell_type": "code",
   "execution_count": null,
   "metadata": {},
   "outputs": [],
   "source": [
    "model = train_model('example', window=3)"
   ]
  },
  {
   "cell_type": "code",
   "execution_count": null,
   "metadata": {},
   "outputs": [],
   "source": [
    "get_similar_words('bb')"
   ]
  },
  {
   "cell_type": "markdown",
   "metadata": {},
   "source": [
    "## Exercise 2: hands-on "
   ]
  },
  {
   "cell_type": "markdown",
   "metadata": {},
   "source": [
    "1. Find a new corpus (no more than 50,000 sentences)."
   ]
  },
  {
   "cell_type": "markdown",
   "metadata": {},
   "source": [
    "2. train a word2vec model in this corpus with windows of 3"
   ]
  },
  {
   "cell_type": "markdown",
   "metadata": {},
   "source": [
    "3. Choose a word and find 10 closest sentence"
   ]
  },
  {
   "cell_type": "markdown",
   "metadata": {},
   "source": [
    "4. graphic words"
   ]
  },
  {
   "cell_type": "markdown",
   "metadata": {},
   "source": [
    "5. Retrain the model changing window parameter to 10"
   ]
  },
  {
   "cell_type": "markdown",
   "metadata": {},
   "source": [
    "6. Take the same word from instruction 3 and find the closest words. What are the differencies?"
   ]
  },
  {
   "cell_type": "code",
   "execution_count": null,
   "metadata": {},
   "outputs": [],
   "source": []
  }
 ],
 "metadata": {
  "kernelspec": {
   "display_name": "Python 3",
   "language": "python",
   "name": "python3"
  },
  "language_info": {
   "codemirror_mode": {
    "name": "ipython",
    "version": 3
   },
   "file_extension": ".py",
   "mimetype": "text/x-python",
   "name": "python",
   "nbconvert_exporter": "python",
   "pygments_lexer": "ipython3",
   "version": "3.7.2"
  }
 },
 "nbformat": 4,
 "nbformat_minor": 2
}
