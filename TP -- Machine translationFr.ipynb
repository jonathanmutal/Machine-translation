{
 "cells": [
  {
   "cell_type": "markdown",
   "metadata": {},
   "source": [
    "<font size='+2'><b>Exercice - word2vec</b></font>"
   ]
  },
  {
   "cell_type": "markdown",
   "metadata": {},
   "source": [
    "Dans cet exercice vous allez utiliser word2vec pour construire des modèles puis pour les tester. A chaque étape, vous allez exécuter une commande qui se trouve dans une cellule. Pour exécuter le code, cliquez dans la cellule (dont le contour deviendra vert) puis tapez SHIFT+ENTER.<br/>\n",
    "Commencez par la cellule ci-dessous. Attention à ne pas modifier le contenu de cette cellule.<br/>\n",
    "\n"
   ]
  },
  {
   "cell_type": "code",
   "execution_count": null,
   "metadata": {},
   "outputs": [],
   "source": [
    "from word2vec import train_model,load_model,get_similar_words, get_vocabulary, cosine_similarity_between_words, graphic_words, get_vector\n",
    "from utils import add_corpus\n",
    "%matplotlib notebook"
   ]
  },
  {
   "cell_type": "markdown",
   "metadata": {},
   "source": [
    "<em>n.b. vous pouvez ignorer l'avertissement warnings.warn(\"detected Windows; aliasing chunkize to chunkize_serial\")</em>"
   ]
  },
  {
   "cell_type": "markdown",
   "metadata": {},
   "source": [
    "<font size='+1'><b> Exercice 1 : introduction</b></font><br><br>\n",
    "Le premier modèle est construit à partir d'un corpus composé de recettes de cuisine, <i>cook_book_1</i>.\n",
    "<br/>\n",
    "Vous pouvez consulter le corpus en retournant dans l'onglet <i>Home Page</i> du navigateur, vous y trouverez un répertoire <i>text</i> qui contient les corpus utilisés pour cet exercice.\n",
    "<br/>Nous commençons par charger un modèle word2vec préentrainé avec <i>cook_book_1</i>.\n",
    "\n",
    "<ul>1. Chargez le modèle <i>cook_book_1</i> : sélectionnez la cellule ci-dessous, puis tapez <b>shift+enter</b></ul>\n"
   ]
  },
  {
   "cell_type": "code",
   "execution_count": null,
   "metadata": {},
   "outputs": [],
   "source": [
    "model = load_model('w2v_models/cook_book_1.w2v')"
   ]
  },
  {
   "cell_type": "markdown",
   "metadata": {},
   "source": [
    "<ul>2. Voir le vocabulaire : sélectionnez la cellule ci-dessous, puis tapez shift+enter </ul>"
   ]
  },
  {
   "cell_type": "code",
   "execution_count": null,
   "metadata": {},
   "outputs": [],
   "source": [
    "get_vocabulary()"
   ]
  },
  {
   "cell_type": "markdown",
   "metadata": {},
   "source": [
    "<ul>3. Obtenir le vecteur pour le mot 'carrot'. La dimension est de 300.</ul>"
   ]
  },
  {
   "cell_type": "code",
   "execution_count": null,
   "metadata": {},
   "outputs": [],
   "source": [
    "get_vector('carrot')"
   ]
  },
  {
   "cell_type": "markdown",
   "metadata": {},
   "source": [
    "<ul>4. Trouver les 20 mots les plus similaires à 'carrot'. Exécutez la cellule ci-dessous et observez les résultats. Vous pouvez remplacer le mot 'carrot' dans la cellule puis réexécuter pour tester avec d'autres mots.</ul>"
   ]
  },
  {
   "cell_type": "code",
   "execution_count": null,
   "metadata": {},
   "outputs": [],
   "source": [
    "get_similar_words('carrot', 20)"
   ]
  },
  {
   "cell_type": "markdown",
   "metadata": {},
   "source": [
    "<ul>5. Trouver la similarité cosinus entre 'knife' et 'fork'. Exécutez la cellule ci-dessous et observez le résultat. Remplacez ensuite les mots avec d'autres mots plus ou moins proches, puis réexécutez la cellule.</ul>"
   ]
  },
  {
   "cell_type": "code",
   "execution_count": null,
   "metadata": {},
   "outputs": [],
   "source": [
    "cosine_similarity_between_words('knife', 'fork')"
   ]
  },
  {
   "cell_type": "markdown",
   "metadata": {},
   "source": [
    "<ul>6. Afficher une représentation graphique de 10 mots proches de 'carrot'. Exécutez la cellule ci-dessous et observez les résultats. Vous pouvez ensuite remplacer les mots avec d'autres mots de votre choix, puis réexécuter la cellule.</ul>"
   ]
  },
  {
   "cell_type": "code",
   "execution_count": null,
   "metadata": {},
   "outputs": [],
   "source": [
    "graphic_words(words=['carrot', 'mix', 'knife', 'cheese', 'boil', 'onion', 'milk', 'potato', 'food', 'stirred', 'shake'])"
   ]
  },
  {
   "cell_type": "markdown",
   "metadata": {},
   "source": [
    "\n",
    "<font size='+1'><b> Exercice 2 : Entrainement avec un autre corpus et de nouveaux paramètres.</b></font><br><br>\n",
    "Dans cet exemple nous utilisons un corpus artificiel (chat.txt), que vous trouverez dans le répertoire <i>text</i>.</ul>"
   ]
  },
  {
   "cell_type": "markdown",
   "metadata": {},
   "source": [
    "1. Nous commençons par ajouter le corpus avec la commande suivante :\n",
    "\n",
    "        add_corpus(name_of_corpus, path_to_the_file)\n",
    "    \n",
    "Dans cet exemple, nous appelons le corpus <i>chat</i>, et le chemin est <i>text/chat.txt</i>"
   ]
  },
  {
   "cell_type": "code",
   "execution_count": null,
   "metadata": {},
   "outputs": [],
   "source": [
    "add_corpus('chat', 'text/chat.txt')"
   ]
  },
  {
   "cell_type": "markdown",
   "metadata": {},
   "source": [
    "2. Entrainer un nouveau modèle avec ce corpus. Dans notre exemple, nous utilisons une valeur window de 3 (qui définit le nombre de mots à inclure dans le contexte)."
   ]
  },
  {
   "cell_type": "code",
   "execution_count": null,
   "metadata": {},
   "outputs": [],
   "source": [
    "model = train_model('chat', window=3, epochs=100)"
   ]
  },
  {
   "cell_type": "markdown",
   "metadata": {},
   "source": [
    "3. Observez le corpus, puis modifiez et utilisez la commande suivante pour trouver des mots qui devraient être similaires"
   ]
  },
  {
   "cell_type": "code",
   "execution_count": null,
   "metadata": {},
   "outputs": [],
   "source": [
    "get_similar_words('mot')"
   ]
  },
  {
   "cell_type": "markdown",
   "metadata": {},
   "source": [
    "4. Modifiez et utilisez la commande suivante pour obtenir une représentation graphique de mots similaires"
   ]
  },
  {
   "cell_type": "code",
   "execution_count": null,
   "metadata": {},
   "outputs": [],
   "source": [
    "graphic_words(words=['mot1', 'mot2', 'mot3'])"
   ]
  },
  {
   "cell_type": "markdown",
   "metadata": {},
   "source": [
    "### Exercice 3 : Télécharger un nouveau corpus\n",
    "1. Retournez dans l'onglet <i>Home</i>\n",
    "\n",
    "<img src=\"jupyter_home.PNG\">\n",
    "\n",
    "2. Cliquez sur upload\n",
    "\n",
    "3. Téléchargez un fichier avec un nouveau corpus (cela doit être un fichier texte), par exemple <i>example.txt</i>\n",
    "\n",
    "<img src=\"upload.PNG\">"
   ]
  },
  {
   "cell_type": "markdown",
   "metadata": {},
   "source": [
    "4. Ajoutez le corpus à charger:\n",
    "\n",
    "        add_corpus(name_of_corpus, path_to_the_file)\n",
    "    \n",
    "Dans cet exemple, nous appelons le corpus <i>example</i>, et le chemin est <i>example.txt</i> (ajustez la commande suivante à votre corpus puis exécutez la)."
   ]
  },
  {
   "cell_type": "code",
   "execution_count": null,
   "metadata": {},
   "outputs": [],
   "source": [
    "add_corpus('example', 'example.txt')"
   ]
  },
  {
   "cell_type": "markdown",
   "metadata": {},
   "source": [
    "5. Entrainez un nouveau modèle avec nom_du_corpus. Dans notre exemple, il s'agit d'<i>example</i> et nous utilisons une valeur window de 3."
   ]
  },
  {
   "cell_type": "code",
   "execution_count": null,
   "metadata": {},
   "outputs": [],
   "source": [
    "model = train_model('example', window=3)"
   ]
  },
  {
   "cell_type": "markdown",
   "metadata": {},
   "source": [
    "6. Testez le modèle comme vu précédemment"
   ]
  },
  {
   "cell_type": "code",
   "execution_count": null,
   "metadata": {},
   "outputs": [],
   "source": [
    "get_similar_words('mot')"
   ]
  },
  {
   "cell_type": "code",
   "execution_count": null,
   "metadata": {},
   "outputs": [],
   "source": [
    "graphic_words(words=['mot1', 'mot2', 'mot3'])"
   ]
  }
 ],
 "metadata": {
  "kernelspec": {
   "display_name": "Python 3",
   "language": "python",
   "name": "python3"
  },
  "language_info": {
   "codemirror_mode": {
    "name": "ipython",
    "version": 3
   },
   "file_extension": ".py",
   "mimetype": "text/x-python",
   "name": "python",
   "nbconvert_exporter": "python",
   "pygments_lexer": "ipython3",
   "version": "3.7.4"
  }
 },
 "nbformat": 4,
 "nbformat_minor": 2
}
