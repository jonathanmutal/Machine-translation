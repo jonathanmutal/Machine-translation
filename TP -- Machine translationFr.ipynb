{
 "cells": [
  {
   "cell_type": "markdown",
   "metadata": {},
   "source": [
    "<font size='+2'><b>Exercice - modèles neuronaux</b></font>"
   ]
  },
  {
   "cell_type": "markdown",
   "metadata": {},
   "source": [
    "Dans cet exercice vous allez exécuter une séquence de commandes pour construire un modèle puis pour le tester. A chaque étape, vous allez exécuter le code qui se trouve dans une cellule. Pour ceci, cliquez dans la cellule (dont le contour deviendra vert) puis tapez SHIFT+ENTER.<br/>\n",
    "Commencez par la cellule ci-dessous. Attention à ne pas modifier le contenu de cette cellule.<br/>\n",
    "\n"
   ]
  },
  {
   "cell_type": "code",
   "execution_count": null,
   "metadata": {},
   "outputs": [],
   "source": [
    "from word2vec import train_model,load_model,get_similar_words, get_vocabulary, cosine_similarity_between_words, graphic_words, get_vector\n",
    "from utils import add_corpus\n",
    "%matplotlib notebook"
   ]
  },
  {
   "cell_type": "markdown",
   "metadata": {},
   "source": [
    "<em>n.b. vous pouvez ignorer l'avertissement warnings.warn(\"detected Windows; aliasing chunkize to chunkize_serial\")</em>"
   ]
  },
  {
   "cell_type": "markdown",
   "metadata": {},
   "source": [
    "<font size='+1'><b> Exercice 1 : introduction</b></font><br><br>\n",
    "Le premier modèle est construit à partir d'un corpus composé de recettes de cuisine, <i>cook_book_1</i>. Vous pouvez consulter le corpus en retournant dans l'onglet <i>Home Page</i> du navigateur, vous y trouverez un répertoire <i>text</i> qui contient les corpus utilisés pour cet exercice.\n",
    "<br/>Nous commençons par charger un modèle word2vec préentrainé avec <i>cook_book_1</i>.\n",
    "\n",
    "<ul>1. Charger le modèle <i>cook_book_1</i> : sélectionner la cellule ci-dessous, puis taper <b>shift+enter</b></ul>\n"
   ]
  },
  {
   "cell_type": "code",
   "execution_count": null,
   "metadata": {},
   "outputs": [],
   "source": [
    "model = load_model('w2v_models/cook_book_1.w2v')"
   ]
  },
  {
   "cell_type": "markdown",
   "metadata": {},
   "source": [
    "<ul>2. Obtenir le vecteur pour le mot 'carrot'. La dimension est de 300.</ul>"
   ]
  },
  {
   "cell_type": "code",
   "execution_count": null,
   "metadata": {},
   "outputs": [],
   "source": [
    "get_vector('carrot')"
   ]
  },
  {
   "cell_type": "markdown",
   "metadata": {},
   "source": [
    "<ul>3. Trouver les 20 mots les plus similaires à 'carrot'. Exécutez la cellule ci-dessous et observez les résultats. Vous pouvez remplacer le mot 'carrot' dans la cellule puis réexécuter pour tester avec d'autres mots.</ul>"
   ]
  },
  {
   "cell_type": "code",
   "execution_count": null,
   "metadata": {},
   "outputs": [],
   "source": [
    "get_similar_words('carrot', 20)"
   ]
  },
  {
   "cell_type": "markdown",
   "metadata": {},
   "source": [
    "<ul>4. Trouver la similarité cosinus entre 'man' et 'woman'.</ul>"
   ]
  },
  {
   "cell_type": "code",
   "execution_count": null,
   "metadata": {},
   "outputs": [],
   "source": [
    "cosine_similarity_between_words('woman', 'man')"
   ]
  },
  {
   "cell_type": "markdown",
   "metadata": {},
   "source": [
    "<ul>5. Afficher une représentation graphique de 10 mots proches de 'carrot'. Exécutez la cellule ci-dessous et observez les résultats. Vous pouvez ensuite remplacer les mots avec d'autres mots de votre choix, puis réexécuter la cellule.</ul>"
   ]
  },
  {
   "cell_type": "code",
   "execution_count": null,
   "metadata": {},
   "outputs": [],
   "source": [
    "graphic_words(words=['carrot', 'mix', 'man', 'cheese', 'boil', 'onion', 'milk', 'potato', 'food', 'stirred', 'shake'])"
   ]
  },
  {
   "cell_type": "markdown",
   "metadata": {},
   "source": [
    "\n",
    "<font size='+1'><b> Exercice 2 : Entrainement avec un autre corpus et de nouveaux paramètres.</b></font><br><br>\n",
    "Le paramètre <i>window</i> a la valeur 3.</ul>"
   ]
  },
  {
   "cell_type": "code",
   "execution_count": null,
   "metadata": {},
   "outputs": [],
   "source": [
    "model = train_model('shakespeare', window=3)"
   ]
  },
  {
   "cell_type": "markdown",
   "metadata": {},
   "source": [
    "<ul>6.1. Trouver les 10 mots les plus proches du mot 'street'.</ul>"
   ]
  },
  {
   "cell_type": "code",
   "execution_count": null,
   "metadata": {},
   "outputs": [],
   "source": [
    "get_similar_words('wheel')"
   ]
  },
  {
   "cell_type": "markdown",
   "metadata": {},
   "source": [
    "<ul>7. Obtenir le vocabulaire</ul>"
   ]
  },
  {
   "cell_type": "code",
   "execution_count": null,
   "metadata": {},
   "outputs": [],
   "source": [
    "get_vocabulary()"
   ]
  },
  {
   "cell_type": "markdown",
   "metadata": {},
   "source": [
    "### Comment charger un nouveau corpus?"
   ]
  },
  {
   "cell_type": "markdown",
   "metadata": {},
   "source": [
    "1. Aller à l'écran de départ de jupyter\n",
    "\n",
    "<img src=\"jupyter_home.PNG\">\n",
    "\n",
    "2. Cliquer sur upload\n",
    "\n",
    "3. Télécharger le fichier avec le nouveau corpus (cela doit être un fichier texte), par exemple <i>example.txt</i>\n",
    "\n",
    "<img src=\"upload.PNG\">\n",
    "\n",
    "4. Suivre les instructions ci-dessous."
   ]
  },
  {
   "cell_type": "markdown",
   "metadata": {},
   "source": [
    "5. Ajouter le corpus à charger:\n",
    "\n",
    "        add_corpus(name_of_corpus, path_to_the_file)\n",
    "    \n",
    "Dans cet exemple, nous appelons le corpus <i>example</i>, et le chemin est <i>example.txt</i>"
   ]
  },
  {
   "cell_type": "code",
   "execution_count": null,
   "metadata": {},
   "outputs": [],
   "source": [
    "add_corpus('example', 'text/example.txt')"
   ]
  },
  {
   "cell_type": "markdown",
   "metadata": {},
   "source": [
    "6. Entrainer un nouveau modèle avec nom_du_corpus. Dans notre exemple, il s'agit d'<i>example</i> et nous utilisons une valeur window de 3."
   ]
  },
  {
   "cell_type": "code",
   "execution_count": null,
   "metadata": {},
   "outputs": [],
   "source": [
    "model = train_model('example', window=3)"
   ]
  },
  {
   "cell_type": "code",
   "execution_count": null,
   "metadata": {},
   "outputs": [],
   "source": [
    "get_similar_words('abdomen')"
   ]
  },
  {
   "cell_type": "markdown",
   "metadata": {},
   "source": [
    "<font size='+1'><b>Exercice 2 : pratique</b><font>"
   ]
  },
  {
   "cell_type": "markdown",
   "metadata": {},
   "source": [
    "1. Trouvez un nouveau corpus (pas plus de 50,000 phrases)."
   ]
  },
  {
   "cell_type": "markdown",
   "metadata": {},
   "source": [
    "2. Entrainez un  modèle word2vec avec ce corpus, avec une valeur window de 3."
   ]
  },
  {
   "cell_type": "markdown",
   "metadata": {},
   "source": [
    "3. Sélectionnez un mot et trouvez les 10 mots les plus proches."
   ]
  },
  {
   "cell_type": "markdown",
   "metadata": {},
   "source": [
    "4. Produisez une représentation graphique de ces mots."
   ]
  },
  {
   "cell_type": "markdown",
   "metadata": {},
   "source": [
    "5. Réentrainez le modèle après avoir changé la valeur window à 10."
   ]
  },
  {
   "cell_type": "markdown",
   "metadata": {},
   "source": [
    "6. Utilisez le même mot qu'au point 3 et cherchez les mots les plus proches. Qu'observez-vous?"
   ]
  },
  {
   "cell_type": "code",
   "execution_count": null,
   "metadata": {},
   "outputs": [],
   "source": [
    "graphic_words(words=['ventre','estomac', 'foie', 'rate'])"
   ]
  },
  {
   "cell_type": "code",
   "execution_count": null,
   "metadata": {},
   "outputs": [],
   "source": []
  }
 ],
 "metadata": {
  "kernelspec": {
   "display_name": "Python 3",
   "language": "python",
   "name": "python3"
  },
  "language_info": {
   "codemirror_mode": {
    "name": "ipython",
    "version": 3
   },
   "file_extension": ".py",
   "mimetype": "text/x-python",
   "name": "python",
   "nbconvert_exporter": "python",
   "pygments_lexer": "ipython3",
   "version": "3.7.4"
  }
 },
 "nbformat": 4,
 "nbformat_minor": 2
}
