{
 "cells": [
  {
   "cell_type": "markdown",
   "metadata": {},
   "source": [
    "<font size='+2'><b>Exercice - modèles neuronaux</b></font>"
   ]
  },
  {
   "cell_type": "markdown",
   "metadata": {},
   "source": [
    "Words that occur insimilar contexts tend to have similar meanings.  This link between similarity in how words are distributed and similarity in  what  they  mean  is  called  <b>the distributional  hypothesis.</b> (Joos (1950), Harris (1954), and Firth(1957))"
   ]
  },
  {
   "cell_type": "markdown",
   "metadata": {},
   "source": [
    "In this practice we are going to instante this linguistic hypothesis by learning representations of the meaning of words directly from their distributions in texts and using some pre-trained representations.  <it> A word’s distribution is the set of contexts in which it occurs, the neighboring words or grammatical environments.  The idea is that two words that occur in very similar distributions (that occur together with very similar words) are likely to have the same meaning. </it>"
   ]
  },
  {
   "cell_type": "markdown",
   "metadata": {},
   "source": [
    " <b>Dans  cet exercice, vous allez exécuter du code étape par étape. Exécutez chacune des cellules en cliquant dedans, puis en pressant SHIFT+ENTER.<br/></b>\n",
    "Commencez par la cellule ci-dessous. Attention à ne pas modifier le contenu de la cellule.<br/>\n",
    "<em>n.b. vous pouvez ignorer le warnings.warn(\"detected Windows; aliasing chunkize to chunkize_serial\")</em>\n"
   ]
  },
  {
   "cell_type": "code",
   "execution_count": null,
   "metadata": {},
   "outputs": [],
   "source": [
    "from word2vec import train_model,load_model,get_similar_words, get_vocabulary, cosine_similarity_between_words, graphic_words, get_vector\n",
    "from utils import add_corpus\n",
    "%matplotlib notebook"
   ]
  },
  {
   "cell_type": "markdown",
   "metadata": {},
   "source": [
    "<font size='+1'><b> Exercice 1 : introduction</b></font><br><br>\n",
    "Explorez les vecteurs du set de données cook_book_1. N'oubliez pas de presser <b>shift+enter</b> pour exécuter les cellules les unes après les autres. Nous commençons par charger un modèle word2vec préentrainé avec des recettes de cuisine.\n",
    "\n",
    "<ul>1. Charger le modèle <i>cook_book_1</i></ul>\n"
   ]
  },
  {
   "cell_type": "code",
   "execution_count": null,
   "metadata": {},
   "outputs": [],
   "source": [
    "model = load_model('w2v_models/cook_book_1.w2v')"
   ]
  },
  {
   "cell_type": "markdown",
   "metadata": {},
   "source": [
    "<ul>2. Obtenir le vecteur pour le mot 'carrot'. La dimension est de 300.</ul>"
   ]
  },
  {
   "cell_type": "code",
   "execution_count": null,
   "metadata": {},
   "outputs": [],
   "source": [
    "get_vector('carrot')"
   ]
  },
  {
   "cell_type": "markdown",
   "metadata": {},
   "source": [
    "<ul>3. Trouver les 20 mots les plus similaires à 'carrot'.</ul>"
   ]
  },
  {
   "cell_type": "code",
   "execution_count": null,
   "metadata": {},
   "outputs": [],
   "source": [
    "get_similar_words('carrot', 20)"
   ]
  },
  {
   "cell_type": "markdown",
   "metadata": {},
   "source": [
    "<ul>4. Trouver la cosine similarity entre 'man' and 'woman'.</ul>"
   ]
  },
  {
   "cell_type": "code",
   "execution_count": null,
   "metadata": {},
   "outputs": [],
   "source": [
    "cosine_similarity_between_words('woman', 'man')"
   ]
  },
  {
   "cell_type": "markdown",
   "metadata": {},
   "source": [
    "<ul>5. Afficher une représentation graphique de 10 mots proches de 'carrot'.</ul>"
   ]
  },
  {
   "cell_type": "code",
   "execution_count": null,
   "metadata": {},
   "outputs": [],
   "source": [
    "graphic_words(words=['carrot', 'mix', 'man', 'cheese', 'boil', 'onion', 'milk', 'potato', 'food', 'stirred', 'shake'])"
   ]
  },
  {
   "cell_type": "markdown",
   "metadata": {},
   "source": [
    "<ul>6. Entrainement avec un nouveau corpus et de nouveaux paramètres. Le paramètre <i>window</i> a la valeur 3.</ul>"
   ]
  },
  {
   "cell_type": "markdown",
   "metadata": {},
   "source": [
    "<ul>Paramètres:<br/>\n",
    "<b>Window</b>: The maximum distance between a target word and words around the target word. Shorter context windows tend to lead to representations that are a bit more syntactic, since the information is coming from immediately nearby words. When the vectors are computed from longer context windows, the most similar words to a target words tend to be semantically similar words with the same parts of speech.  When vectors are computed from long context windows, the highest cosine words to a target words tend to be words that are topically related but not similar.</ul>"
   ]
  },
  {
   "cell_type": "code",
   "execution_count": null,
   "metadata": {},
   "outputs": [],
   "source": [
    "model = train_model('shakespeare', window=3)"
   ]
  },
  {
   "cell_type": "markdown",
   "metadata": {},
   "source": [
    "<ul>6.1. Trouver les 10 mots les plus proches du mot 'street'.</ul>"
   ]
  },
  {
   "cell_type": "code",
   "execution_count": null,
   "metadata": {},
   "outputs": [],
   "source": [
    "get_similar_words('wheel')"
   ]
  },
  {
   "cell_type": "markdown",
   "metadata": {},
   "source": [
    "<ul>7. Obtenir le vocabulaire</ul>"
   ]
  },
  {
   "cell_type": "code",
   "execution_count": null,
   "metadata": {},
   "outputs": [],
   "source": [
    "get_vocabulary()"
   ]
  },
  {
   "cell_type": "markdown",
   "metadata": {},
   "source": [
    "### Comment charger un nouveau corpus?"
   ]
  },
  {
   "cell_type": "markdown",
   "metadata": {},
   "source": [
    "1. Aller à l'écran de départ de jupyter\n",
    "\n",
    "<img src=\"jupyter_home.PNG\">\n",
    "\n",
    "2. Cliquer sur upload\n",
    "\n",
    "3. Télécharger le fichier avec le nouveau corpus (cela doit être un fichier texte), par exemple <i>example.txt</i>\n",
    "\n",
    "<img src=\"upload.PNG\">\n",
    "\n",
    "4. Suivre les instructions ci-dessous."
   ]
  },
  {
   "cell_type": "markdown",
   "metadata": {},
   "source": [
    "5. Ajouter le corpus à charger:\n",
    "\n",
    "        add_corpus(name_of_corpus, path_to_the_file)\n",
    "    \n",
    "Dans cet exemple, nous appelons le corpus <i>example</i>, et le chemin est <i>example.txt</i>"
   ]
  },
  {
   "cell_type": "code",
   "execution_count": null,
   "metadata": {},
   "outputs": [],
   "source": [
    "add_corpus('example', 'example.txt')"
   ]
  },
  {
   "cell_type": "markdown",
   "metadata": {},
   "source": [
    "6. Entrainer un nouveau modèle avec nom_du_corpus. Dans notre exemple, il s'agit d'<i>example</i> et nous utilisons une valeur window de 3."
   ]
  },
  {
   "cell_type": "code",
   "execution_count": null,
   "metadata": {},
   "outputs": [],
   "source": [
    "model = train_model('example', window=3)"
   ]
  },
  {
   "cell_type": "code",
   "execution_count": null,
   "metadata": {},
   "outputs": [],
   "source": [
    "get_similar_words('ventre')"
   ]
  },
  {
   "cell_type": "markdown",
   "metadata": {},
   "source": [
    "<font size='+1'><b>Exercice 2 : pratique</b><font>"
   ]
  },
  {
   "cell_type": "markdown",
   "metadata": {},
   "source": [
    "1. Trouvez un nouveau corpus (pas plus de 50,000 phrases)."
   ]
  },
  {
   "cell_type": "markdown",
   "metadata": {},
   "source": [
    "2. Entrainez un  modèle word2vec avec ce corpus, avec une valeur window de 3."
   ]
  },
  {
   "cell_type": "markdown",
   "metadata": {},
   "source": [
    "3. Sélectionnez un mot et trouvez les 10 mots les plus proches."
   ]
  },
  {
   "cell_type": "markdown",
   "metadata": {},
   "source": [
    "4. Produisez une représentation graphique de ces mots."
   ]
  },
  {
   "cell_type": "markdown",
   "metadata": {},
   "source": [
    "5. Réentrainez le modèle après avoir changé la valeur window à 10."
   ]
  },
  {
   "cell_type": "markdown",
   "metadata": {},
   "source": [
    "6. Utilisez le même mot qu'au point 3 et cherchez les mots les plus proches. Qu'observez-vous?"
   ]
  },
  {
   "cell_type": "code",
   "execution_count": null,
   "metadata": {},
   "outputs": [],
   "source": [
    "graphic_words(words=['ventre','estomac', 'foie', 'rate'])"
   ]
  },
  {
   "cell_type": "code",
   "execution_count": null,
   "metadata": {},
   "outputs": [],
   "source": []
  }
 ],
 "metadata": {
  "kernelspec": {
   "display_name": "Python 3",
   "language": "python",
   "name": "python3"
  },
  "language_info": {
   "codemirror_mode": {
    "name": "ipython",
    "version": 3
   },
   "file_extension": ".py",
   "mimetype": "text/x-python",
   "name": "python",
   "nbconvert_exporter": "python",
   "pygments_lexer": "ipython3",
   "version": "3.7.4"
  }
 },
 "nbformat": 4,
 "nbformat_minor": 2
}
